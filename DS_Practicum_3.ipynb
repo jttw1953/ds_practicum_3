{
 "cells": [
  {
   "cell_type": "markdown",
   "metadata": {},
   "source": [
    "# DS 3000 - DS Practicum 3\n",
    "\n",
    "**Student Name**: Tin Wan Jared Tung, Carlie Chin, Michael Danzi, Elizabeth Niemiec\n",
    "\n",
    "**Date**: 4-7-2025\n",
    "\n",
    "\n",
    "### Submission Instructions\n",
    "Submit this `ipynb` file to canvas.\n",
    "\n",
    "The `ipynb` format stores outputs from the last time you ran the notebook.  (When you open a notebook it has the figures and outputs of the last time you ran it too).  To ensure that your submitted `ipynb` file represents your latest code, make sure to give a fresh run `Kernel > Restart & Run All` just before uploading the `ipynb` file to Canvas.\n",
    "\n",
    "### Academic Integrity\n",
    "\n",
    "**Writing your homework is an individual effort.**  You may discuss general python problems with other students but under no circumstances should you observe another student's code which was written for this assignment, from this year or past years.  Pop into office hours or DM us in MS Teams if you have a specific question about your work or if you would like another pair of eyes or talk through your code.\n",
    "\n",
    "Don't forget to cite websites which helped you solve a problem in a unique way.  You can do this in markdown near the code or with a simple one-line comment. You do not need to cite the official python documentation.\n",
    "\n",
    "**Documentation / style counts for credit**  Please refer to the Pep-8 style, to improve the readability and consistency of your Python code. For more information, read the following article [How to Write Beautiful Python Code With PEP 8](https://realpython.com/python-pep8/) or ask your TA's for tips.\n",
    "\n",
    "**NOTE:<span style='color:red'> Write python expressions to answer ALL questions below and ensure that you use the `print()` function to display the output.</span>** Each question should be answered in a new code cell. For example, your solution for question 1.1 should be in a different code cell from your solution for question 1.2."
   ]
  },
  {
   "cell_type": "markdown",
   "metadata": {},
   "source": [
    "## Question 1: \n",
    "\n",
    "In your own words, formulate the Data Science problem."
   ]
  },
  {
   "cell_type": "markdown",
   "metadata": {},
   "source": [
    "This data science project aims to develop a predictive model that is able to classify individuals into one of the three categories; diabetic, pre-diabetic or non-diabetic. We retrieve various aspects of health, including BMI, physical activity, smoking status, feelings of general health, as well as their demographic and behavioral counterparts through the use of CDC Diabetes Health Indicators based on the Behavioral Risk Factor Surveillance System (BRFSS) data. The problem is multi-class classification and its goal is the discovery of relationships and patterns between these health indicators and the diabetes outcomes. Developing an accurate and reliable machine learning model is the basis to provide inputs to key diabetes risk factors, and for early identification of diabetes risk individuals. The solution can ultimately provide guidance to public health strategies and assist in preventative healthcare programming mechanisms by providing a more specific and data driven intervention."
   ]
  },
  {
   "cell_type": "markdown",
   "metadata": {},
   "source": [
    "## Question 2: \n",
    "\n",
    "- Evaluate the dataset to determine if ALL variables are represented in their expected type. Convert variables to suitable data types for ML modeling. This means that you need to identify categorical data, discrete and continuous variables represent them accordingly.\n",
    "- Analyze the data to determine what preprocessing steps are needed to ensure that the following are handled: 1) missing values, 2) invalid values, 3) outliers. Perform the required data preparation steps and justify the approach that is taken to prepare the data for analysis. "
   ]
  },
  {
   "cell_type": "code",
   "execution_count": 50,
   "metadata": {},
   "outputs": [
    {
     "data": {
      "text/plain": [
       "Diabetes_012            float64\n",
       "HighBP                  float64\n",
       "HighChol                float64\n",
       "CholCheck               float64\n",
       "BMI                     float64\n",
       "Smoker                  float64\n",
       "Stroke                  float64\n",
       "HeartDiseaseorAttack    float64\n",
       "PhysActivity            float64\n",
       "Fruits                  float64\n",
       "Veggies                 float64\n",
       "HvyAlcoholConsump       float64\n",
       "AnyHealthcare           float64\n",
       "NoDocbcCost             float64\n",
       "GenHlth                 float64\n",
       "MentHlth                float64\n",
       "PhysHlth                float64\n",
       "DiffWalk                float64\n",
       "Sex                     float64\n",
       "Age                     float64\n",
       "Education               float64\n",
       "Income                  float64\n",
       "dtype: object"
      ]
     },
     "execution_count": 50,
     "metadata": {},
     "output_type": "execute_result"
    }
   ],
   "source": [
    "# Import libraries\n",
    "import pandas as pd\n",
    "import numpy as np\n",
    "\n",
    "# Load the dataset\n",
    "df = pd.read_csv(\"diabetes_012_health_indicators_BRFSS2015.csv\")\n",
    "\n",
    "df.dtypes"
   ]
  },
  {
   "cell_type": "code",
   "execution_count": 51,
   "metadata": {},
   "outputs": [
    {
     "name": "stdout",
     "output_type": "stream",
     "text": [
      "Missing values:\n",
      " Diabetes_012            0\n",
      "HighBP                  0\n",
      "HighChol                0\n",
      "CholCheck               0\n",
      "BMI                     0\n",
      "Smoker                  0\n",
      "Stroke                  0\n",
      "HeartDiseaseorAttack    0\n",
      "PhysActivity            0\n",
      "Fruits                  0\n",
      "Veggies                 0\n",
      "HvyAlcoholConsump       0\n",
      "AnyHealthcare           0\n",
      "NoDocbcCost             0\n",
      "GenHlth                 0\n",
      "MentHlth                0\n",
      "PhysHlth                0\n",
      "DiffWalk                0\n",
      "Sex                     0\n",
      "Age                     0\n",
      "Education               0\n",
      "Income                  0\n",
      "dtype: int64\n"
     ]
    }
   ],
   "source": [
    "# Step 1: Define column types\n",
    "binary_cols = [\n",
    "    'HighBP', 'HighChol', 'CholCheck', 'Smoker', 'Stroke',\n",
    "    'HeartDiseaseorAttack', 'PhysActivity', 'Fruits', 'Veggies',\n",
    "    'HvyAlcoholConsump', 'AnyHealthcare', 'NoDocbcCost', 'DiffWalk', 'Sex'\n",
    "]\n",
    "\n",
    "ordinal_cols = ['GenHlth', 'Education', 'Income']  # Ordinal scales\n",
    "target_col = 'Diabetes_012'  # Multi-class target: 0 = no diabetes, 1 = pre-diabetic, 2 = diabetic\n",
    "\n",
    "# Convert to category type\n",
    "df[binary_cols + ordinal_cols + [target_col]] = df[binary_cols + ordinal_cols + [target_col]].astype('category')\n",
    "\n",
    "# Step 3: Determine missing values\n",
    "print('Missing values:\\n', df.isna().sum())"
   ]
  },
  {
   "cell_type": "code",
   "execution_count": 52,
   "metadata": {},
   "outputs": [
    {
     "data": {
      "text/html": [
       "<div>\n",
       "<style scoped>\n",
       "    .dataframe tbody tr th:only-of-type {\n",
       "        vertical-align: middle;\n",
       "    }\n",
       "\n",
       "    .dataframe tbody tr th {\n",
       "        vertical-align: top;\n",
       "    }\n",
       "\n",
       "    .dataframe thead th {\n",
       "        text-align: right;\n",
       "    }\n",
       "</style>\n",
       "<table border=\"1\" class=\"dataframe\">\n",
       "  <thead>\n",
       "    <tr style=\"text-align: right;\">\n",
       "      <th></th>\n",
       "      <th>BMI</th>\n",
       "      <th>MentHlth</th>\n",
       "      <th>PhysHlth</th>\n",
       "      <th>Age</th>\n",
       "    </tr>\n",
       "  </thead>\n",
       "  <tbody>\n",
       "    <tr>\n",
       "      <th>count</th>\n",
       "      <td>182522.000000</td>\n",
       "      <td>182522.000000</td>\n",
       "      <td>182522.000000</td>\n",
       "      <td>182522.000000</td>\n",
       "    </tr>\n",
       "    <tr>\n",
       "      <th>mean</th>\n",
       "      <td>27.335817</td>\n",
       "      <td>0.493760</td>\n",
       "      <td>0.534686</td>\n",
       "      <td>8.036439</td>\n",
       "    </tr>\n",
       "    <tr>\n",
       "      <th>std</th>\n",
       "      <td>4.787937</td>\n",
       "      <td>1.208057</td>\n",
       "      <td>1.211728</td>\n",
       "      <td>3.070680</td>\n",
       "    </tr>\n",
       "    <tr>\n",
       "      <th>min</th>\n",
       "      <td>14.000000</td>\n",
       "      <td>0.000000</td>\n",
       "      <td>0.000000</td>\n",
       "      <td>1.000000</td>\n",
       "    </tr>\n",
       "    <tr>\n",
       "      <th>25%</th>\n",
       "      <td>24.000000</td>\n",
       "      <td>0.000000</td>\n",
       "      <td>0.000000</td>\n",
       "      <td>6.000000</td>\n",
       "    </tr>\n",
       "    <tr>\n",
       "      <th>50%</th>\n",
       "      <td>27.000000</td>\n",
       "      <td>0.000000</td>\n",
       "      <td>0.000000</td>\n",
       "      <td>8.000000</td>\n",
       "    </tr>\n",
       "    <tr>\n",
       "      <th>75%</th>\n",
       "      <td>30.000000</td>\n",
       "      <td>0.000000</td>\n",
       "      <td>0.000000</td>\n",
       "      <td>10.000000</td>\n",
       "    </tr>\n",
       "    <tr>\n",
       "      <th>max</th>\n",
       "      <td>41.000000</td>\n",
       "      <td>5.000000</td>\n",
       "      <td>5.000000</td>\n",
       "      <td>13.000000</td>\n",
       "    </tr>\n",
       "  </tbody>\n",
       "</table>\n",
       "</div>"
      ],
      "text/plain": [
       "                 BMI       MentHlth       PhysHlth            Age\n",
       "count  182522.000000  182522.000000  182522.000000  182522.000000\n",
       "mean       27.335817       0.493760       0.534686       8.036439\n",
       "std         4.787937       1.208057       1.211728       3.070680\n",
       "min        14.000000       0.000000       0.000000       1.000000\n",
       "25%        24.000000       0.000000       0.000000       6.000000\n",
       "50%        27.000000       0.000000       0.000000       8.000000\n",
       "75%        30.000000       0.000000       0.000000      10.000000\n",
       "max        41.000000       5.000000       5.000000      13.000000"
      ]
     },
     "execution_count": 52,
     "metadata": {},
     "output_type": "execute_result"
    }
   ],
   "source": [
    "# Step 4: Handle outliers in continuous columns\n",
    "numerical_cols = ['BMI', 'MentHlth', 'PhysHlth', 'Age']\n",
    "\n",
    "def remove_outliers_iqr(df, col):\n",
    "    Q1 = df[col].quantile(0.25)\n",
    "    Q3 = df[col].quantile(0.75)\n",
    "    IQR = Q3 - Q1\n",
    "    lower = Q1 - 1.5 * IQR\n",
    "    upper = Q3 + 1.5 * IQR\n",
    "    return df[(df[col] >= lower) & (df[col] <= upper)]\n",
    "\n",
    "# Remove outliers from continuous variables\n",
    "for col in numerical_cols:\n",
    "    df = remove_outliers_iqr(df, col)\n",
    "    \n",
    "df.describe()"
   ]
  },
  {
   "cell_type": "markdown",
   "metadata": {},
   "source": [
    "Question 2 was started by data evaluation to make sure each variable has the right data type for machine learning modeling. HighBP, Smoker and Sex were converted typically to the category data type to indicate a categorical variable and makes the code run faster. Categorical variables were also treated as ordinal like GenHlth, Education, Income which have a meaningful ranked order. Similarly, Diabetes_012, which is the column for no diabetes, pre-diabetes, and diabetes was made a categorical variable with values for multi class classification.\n",
    "\n",
    "Finally we checked for data integrity by verifying that there were no missing values present in the dataset as indicated in data dictionary and programmatically, the dataset had no null entries. We also examined the contents of each column to be sure that there was no such thing as -1 or a 99 for example. We had dealt with potential outliers on for continuous variables such as BMI, MentHlth, PhysHlth, and Age, by the Interquartile Range (IQR) method. It helped removing extreme values that can skew the model training and bad generalization. With these steps the dataset was clean, consistent, and formatted properly to be used in effective exploratory analysis and machine learning development."
   ]
  },
  {
   "cell_type": "markdown",
   "metadata": {},
   "source": [
    "## Question 3:\n",
    "\n",
    "Perform exploratory data analysis. Ensure that you analyze the relationships between the various features and the diabetic outcomes. Create visualizations to demonstrate your findings and explain the results. This is a 20pt question and requires detailed analyses and visualizations."
   ]
  },
  {
   "cell_type": "code",
   "execution_count": 53,
   "metadata": {},
   "outputs": [
    {
     "data": {
      "image/png": "[encoded data removed]",
      "text/plain": [
       "<Figure size 900x500 with 1 Axes>"
      ]
     },
     "metadata": {},
     "output_type": "display_data"
    }
   ],
   "source": [
    "import matplotlib.pyplot as plt\n",
    "import seaborn as sns\n",
    "import pandas as pd\n",
    "\n",
    "sns.set(style=\"whitegrid\")\n",
    "plt.rcParams[\"figure.figsize\"] = (9, 5)\n",
    "\n",
    "# Create readable diabetes class labels if not already done\n",
    "diabetes_labels = {0: 'No Diabetes', 1: 'Pre-diabetic', 2: 'Diabetic'}\n",
    "df['Diabetes_Label'] = df['Diabetes_012'].map(diabetes_labels)\n",
    "\n",
    "# ----------------------------\n",
    "# 1. AGE vs DIABETES (Boxplot)\n",
    "# ----------------------------\n",
    "sns.boxplot(data=df, x='Diabetes_Label', y='BMI', hue='Diabetes_Label', palette='Set2', dodge=False)\n",
    "plt.title('BMI by Diabetes Outcome')\n",
    "plt.xlabel('Diabetes Status')\n",
    "plt.ylabel('BMI')\n",
    "plt.legend([],[], frameon=False)\n",
    "plt.show()"
   ]
  },
  {
   "cell_type": "code",
   "execution_count": 54,
   "metadata": {},
   "outputs": [
    {
     "data": {
      "image/png": "[encoded data removed]",
      "text/plain": [
       "<Figure size 900x500 with 1 Axes>"
      ]
     },
     "metadata": {},
     "output_type": "display_data"
    }
   ],
   "source": [
    "# ----------------------------\n",
    "# 2. BMI vs DIABETES\n",
    "# ----------------------------\n",
    "sns.boxplot(data=df, x='Diabetes_Label', y='BMI', hue='Diabetes_Label', palette='Set2', dodge=False)\n",
    "plt.title('BMI by Diabetes Outcome')\n",
    "plt.xlabel('Diabetes Status')\n",
    "plt.ylabel('BMI')\n",
    "plt.legend([],[], frameon=False)\n",
    "plt.show()"
   ]
  },
  {
   "cell_type": "code",
   "execution_count": 55,
   "metadata": {},
   "outputs": [
    {
     "data": {
      "image/png": "[encoded data removed]",
      "text/plain": [
       "<Figure size 900x500 with 1 Axes>"
      ]
     },
     "metadata": {},
     "output_type": "display_data"
    }
   ],
   "source": [
    "# ----------------------------\n",
    "# 3. PHYSICAL ACTIVITY vs DIABETES (Stacked % Bar)\n",
    "# ----------------------------\n",
    "phys_df = pd.crosstab(df['PhysActivity'], df['Diabetes_Label'], normalize='index') * 100\n",
    "phys_df.plot(kind='bar', stacked=True, colormap='RdYlGn')\n",
    "plt.title('Physical Activity vs Diabetes Outcome (Proportion %)')\n",
    "plt.xlabel('Physically Active (1 = Yes, 0 = No)')\n",
    "plt.ylabel('Percentage')\n",
    "plt.legend(title='Diabetes Outcome')\n",
    "plt.show()"
   ]
  },
  {
   "cell_type": "code",
   "execution_count": 56,
   "metadata": {},
   "outputs": [
    {
     "data": {
      "image/png": "[encoded data removed]",
      "text/plain": [
       "<Figure size 900x500 with 1 Axes>"
      ]
     },
     "metadata": {},
     "output_type": "display_data"
    }
   ],
   "source": [
    "# ----------------------------\n",
    "# 4. GENERAL HEALTH vs DIABETES\n",
    "# ----------------------------\n",
    "sns.countplot(data=df, x='GenHlth', hue='Diabetes_Label', palette='muted')\n",
    "plt.title('General Health vs Diabetes Outcome')\n",
    "plt.xlabel('General Health Rating (1 = Excellent to 5 = Poor)')\n",
    "plt.ylabel('Count')\n",
    "plt.legend(title='Diabetes Outcome')\n",
    "plt.show()"
   ]
  },
  {
   "cell_type": "code",
   "execution_count": 57,
   "metadata": {},
   "outputs": [
    {
     "data": {
      "image/png": "[encoded data removed]",
      "text/plain": [
       "<Figure size 900x500 with 2 Axes>"
      ]
     },
     "metadata": {},
     "output_type": "display_data"
    }
   ],
   "source": [
    "\n",
    "# ----------------------------\n",
    "# 5. CORRELATION HEATMAP (numeric only)\n",
    "# ----------------------------\n",
    "numeric_cols = ['BMI', 'MentHlth', 'PhysHlth', 'Age', 'Diabetes_012']\n",
    "corr_matrix = df[numeric_cols].corr()\n",
    "\n",
    "sns.heatmap(corr_matrix, annot=True, cmap='coolwarm', fmt=\".2f\")\n",
    "plt.title('Correlation Matrix of Numeric Features')\n",
    "plt.show()\n"
   ]
  },
  {
   "cell_type": "markdown",
   "metadata": {},
   "source": [
    "### 1. Age Distribution by Diabetes Outcome (Boxplot)\n",
    "Age boxplot has a clear and meaningful trend across the three classes of diabetes. The average age of pre diabetic individuals is between diabetics who are significantly older. Median age increases steadily over the left to right; spread (interquartile range) is also positively correlated to the left to right. This serves as an affirmation that diabetes is a serious age-related risk factor, which as we know in accordance with general mediloinal knowledge, the more time one spends under stressful lifestyle conditions or metabolic stress, the more likely he or she is to become insulin resistant and develop diabetes.\n",
    "\n",
    "### 2. BMI by Diabetes Outcome (Boxplot)\n",
    "The box plot of BMI shows that there is strong association of higher BMI with diabetes status. Those with pre diabetes have much higher BMI than non-diabetics and those with diabetes have even higher BMI. The diabetic group has a hypertension, with a narrower interquartile range indicating that obesity in diabetics is both common and consistent. Clinical evidence in support is that excess body fat is one of the strongest predictors of diabetes, particularly Type 2, which is driven by insulin resistance.\n",
    "\n",
    "### 3. Physical Activity vs. Diabetes Outcome (Stacked Percentage Bar Chart)\n",
    "The bars are stacked to show the proportion of diabetes classes in each physical activity group. Those who are physically inactive have a higher diabetic status than those who practice regular physical activities. This, conversely, represents a very large share of non diabetics for individuals who are active. Physical activity is a protective factor for both pre-diabetes and diabetes since it reduced the risk. This provides stark contrast in class proportions which advocates a lifestyle intervention for prevention.\n",
    "\n",
    "### 4. General Health Rating vs. Diabetes Outcome (Grouped Bar Chart)\n",
    "A strong inverse relationship between self-reported general health and whether or not a person has diabetes can be seen in this chart. Individuals who give a poor rating to their health (5) are much more prone to be diabetic while those who have excellent judgment (1) are almost all non-diabetic. Middle categories cluster pre diabetics. These results imply that perceived health status can predict actual metabolic status well and thus be used as a good variable for early screening or risk profile.\n",
    "\n",
    "### 5. Correlation Matrix (Heatmap of Numeric Features)\n",
    "The correlation heatmap offers a quantification of numeric features with respect to their diabetic status. Age and BMI are the variables with the strongest positive correlations to the diabetes outcome, as is expected. In addition, PhysHlth and MentHlth have moderate positive correlation, which suggests the general decrease in health of diabetics. The correlations aren’t that high, since the problem is multi class and categorical, but they do a good job of guiding feature selection by showing you variables with which there are meaningful statistical relationships.\n",
    "\n",
    "\n"
   ]
  },
  {
   "cell_type": "markdown",
   "metadata": {},
   "source": [
    "## Question 4a:\n",
    "\n",
    "- Perform significance tests to determine if the patterns that are detected above are statistically significant. Ensure that you discuss at least three patterns and the respective p-values.\n",
    "\n",
    "- Select the features that will be used in the ML models (i.e. your selected features should be based on analytical reasoning that demonstrates their utility for ML modeling. Do not arbitrarily select features.\n",
    "\n",
    "Note: if you are using correlations, ensure that this is only performed using continuous variables."
   ]
  },
  {
   "cell_type": "code",
   "execution_count": 58,
   "metadata": {},
   "outputs": [],
   "source": [
    "from scipy.stats import stats\n",
    "from scipy.stats import chi2_contingency"
   ]
  },
  {
   "cell_type": "code",
   "execution_count": 59,
   "metadata": {},
   "outputs": [
    {
     "name": "stdout",
     "output_type": "stream",
     "text": [
      "F-statistic: 3398.8\n",
      "p-value: 0.0\n",
      "The ANOVA test results between diabetes conditions when grouped by age ARE statistically significant.\n"
     ]
    },
    {
     "name": "stderr",
     "output_type": "stream",
     "text": [
      "/var/folders/_w/slj4l_0n04970tfqk3m2h6sc0000gn/T/ipykernel_4830/696892588.py:6: FutureWarning: The default of observed=False is deprecated and will be changed to True in a future version of pandas. Pass observed=False to retain current behavior or observed=True to adopt the future default and silence this warning.\n",
      "  diabetes_data = df.groupby('Diabetes_Label')\n",
      "/var/folders/_w/slj4l_0n04970tfqk3m2h6sc0000gn/T/ipykernel_4830/696892588.py:12: DeprecationWarning: Please import `f_oneway` from the `scipy.stats` namespace; the `scipy.stats.stats` namespace is deprecated and will be removed in SciPy 2.0.0.\n",
      "  stats_age = stats.f_oneway(age_no_diabetes, age_pre_diabetic, age_diabetic)\n"
     ]
    }
   ],
   "source": [
    "# ----------------------------\n",
    "# 1. AGE vs DIABETES\n",
    "# ----------------------------\n",
    "# USE ANOVA (bc > 2 factors)\n",
    "\n",
    "diabetes_data = df.groupby('Diabetes_Label')\n",
    "\n",
    "age_no_diabetes = diabetes_data.get_group('No Diabetes')['Age']\n",
    "age_pre_diabetic = diabetes_data.get_group('Pre-diabetic')['Age']\n",
    "age_diabetic = diabetes_data.get_group('Diabetic')['Age']\n",
    "\n",
    "stats_age = stats.f_oneway(age_no_diabetes, age_pre_diabetic, age_diabetic)\n",
    "print('F-statistic:', round(stats_age[0], 2))\n",
    "print('p-value:', round(stats_age[1], 2))\n",
    "if stats_age[1] < 0.05:\n",
    "    print('The ANOVA test results between diabetes conditions when grouped by age ARE statistically significant.')\n",
    "else:\n",
    "    print('The ANOVA test results between diabetes conditions when grouped by age ARE NOT statistically significant.')"
   ]
  },
  {
   "cell_type": "markdown",
   "metadata": {},
   "source": [
    "#### Statistically significant:\n",
    "Our F-statistic is really high (more likely that at least one group mean is significantly different than others)\n",
    "Our p-value = 0, which is < 0.05. There is strong evidence against the null hypothesis, so we can reject it. The differences between diabetes conditions when grouped by age are statistically significant. These are likely not due to chance, and could be due to changes in risk factors that occur as we age."
   ]
  },
  {
   "cell_type": "code",
   "execution_count": 60,
   "metadata": {},
   "outputs": [
    {
     "name": "stdout",
     "output_type": "stream",
     "text": [
      "No Diabetes and Pre-diabetic: t-statistic = -27.05, p-value = 0.0\n",
      "Statistically significant!\n",
      "\n",
      "No Diabetes and Diabetic: t-statistic = -78.6, p-value = 0.0\n",
      "Statistically significant!\n",
      "\n",
      "Pre-diabetic and Diabetic: t-statistic = -4.33, p-value = 0.0\n",
      "Statistically significant!\n",
      "\n"
     ]
    },
    {
     "name": "stderr",
     "output_type": "stream",
     "text": [
      "/var/folders/_w/slj4l_0n04970tfqk3m2h6sc0000gn/T/ipykernel_4830/563831167.py:4: DeprecationWarning: Please import `ttest_ind` from the `scipy.stats` namespace; the `scipy.stats.stats` namespace is deprecated and will be removed in SciPy 2.0.0.\n",
      "  t_stat_1, p_value_1 = stats.ttest_ind(age_no_diabetes, age_pre_diabetic)\n",
      "/var/folders/_w/slj4l_0n04970tfqk3m2h6sc0000gn/T/ipykernel_4830/563831167.py:5: DeprecationWarning: Please import `ttest_ind` from the `scipy.stats` namespace; the `scipy.stats.stats` namespace is deprecated and will be removed in SciPy 2.0.0.\n",
      "  t_stat_2, p_value_2 = stats.ttest_ind(age_no_diabetes, age_diabetic)\n",
      "/var/folders/_w/slj4l_0n04970tfqk3m2h6sc0000gn/T/ipykernel_4830/563831167.py:6: DeprecationWarning: Please import `ttest_ind` from the `scipy.stats` namespace; the `scipy.stats.stats` namespace is deprecated and will be removed in SciPy 2.0.0.\n",
      "  t_stat_3, p_value_3 = stats.ttest_ind(age_pre_diabetic, age_diabetic)\n"
     ]
    }
   ],
   "source": [
    "# ----------------------------\n",
    "# 1a. AGE vs DIABETES (pairwise t-tests)\n",
    "# ----------------------------\n",
    "t_stat_1, p_value_1 = stats.ttest_ind(age_no_diabetes, age_pre_diabetic)\n",
    "t_stat_2, p_value_2 = stats.ttest_ind(age_no_diabetes, age_diabetic)\n",
    "t_stat_3, p_value_3 = stats.ttest_ind(age_pre_diabetic, age_diabetic)\n",
    "\n",
    "print(f'No Diabetes and Pre-diabetic: t-statistic = {round(t_stat_1, 2)}, p-value = {round(p_value_1, 2)}')\n",
    "if p_value_1 < 0.05:\n",
    "    print('Statistically significant!\\n')\n",
    "else:\n",
    "    print('NOT statistically significant!\\n')\n",
    "    \n",
    "print(f'No Diabetes and Diabetic: t-statistic = {round(t_stat_2, 2)}, p-value = {round(p_value_2, 2)}')\n",
    "if p_value_2 < 0.05:\n",
    "    print('Statistically significant!\\n')\n",
    "else:\n",
    "    print('NOT statistically significant!\\n')\n",
    "    \n",
    "print(f'Pre-diabetic and Diabetic: t-statistic = {round(t_stat_3, 2)}, p-value = {round(p_value_3, 2)}')\n",
    "if p_value_3 < 0.05:\n",
    "    print('Statistically significant!\\n')\n",
    "else:\n",
    "    print('NOT statistically significant!\\n')"
   ]
  },
  {
   "cell_type": "markdown",
   "metadata": {},
   "source": [
    "These results reaffirm that the differences between each individual diabetic condition when grouped by age are statistically significant."
   ]
  },
  {
   "cell_type": "code",
   "execution_count": 61,
   "metadata": {},
   "outputs": [
    {
     "name": "stdout",
     "output_type": "stream",
     "text": [
      "F-statistic: 3993.9\n",
      "p-value: 0.0\n",
      "The ANOVA test results between diabetes conditions when grouped by BMI ARE statistically significant.\n"
     ]
    },
    {
     "name": "stderr",
     "output_type": "stream",
     "text": [
      "/var/folders/_w/slj4l_0n04970tfqk3m2h6sc0000gn/T/ipykernel_4830/4159789450.py:10: DeprecationWarning: Please import `f_oneway` from the `scipy.stats` namespace; the `scipy.stats.stats` namespace is deprecated and will be removed in SciPy 2.0.0.\n",
      "  stats_bmi = stats.f_oneway(BMI_no_diabetes, BMI_pre_diabetic, BMI_diabetic)\n"
     ]
    }
   ],
   "source": [
    "# ----------------------------\n",
    "# 2. BMI vs DIABETES\n",
    "# ----------------------------\n",
    "# USE ANOVA (bc > 2 factors)\n",
    "\n",
    "BMI_no_diabetes = diabetes_data.get_group('No Diabetes')['BMI']\n",
    "BMI_pre_diabetic = diabetes_data.get_group('Pre-diabetic')['BMI']\n",
    "BMI_diabetic = diabetes_data.get_group('Diabetic')['BMI']\n",
    "\n",
    "stats_bmi = stats.f_oneway(BMI_no_diabetes, BMI_pre_diabetic, BMI_diabetic)\n",
    "\n",
    "print('F-statistic:', round(stats_bmi[0], 2))\n",
    "print('p-value:', round(stats_bmi[1], 2))\n",
    "if stats_bmi[1] < 0.05:\n",
    "    print('The ANOVA test results between diabetes conditions when grouped by BMI ARE statistically significant.')\n",
    "else:\n",
    "    print('The ANOVA test results between diabetes conditions when grouped by BMI ARE NOT statistically significant.')"
   ]
  },
  {
   "cell_type": "markdown",
   "metadata": {},
   "source": [
    "#### Statistically significant:\n",
    "Our F-statistic is really high (more likely that at least one group mean is significantly different than others). Our p-value = 0, which is < 0.05. There is strong evidence against the null hypothesis, so we can reject it. The differences between diabetes conditions when grouped by BMI are statistically significant. These are likely not due to chance, and could be due to changes in risk factors that occur as BMI changes."
   ]
  },
  {
   "cell_type": "code",
   "execution_count": 62,
   "metadata": {},
   "outputs": [
    {
     "name": "stdout",
     "output_type": "stream",
     "text": [
      "\"No Diabetes and Pre-diabetic: t-statistic = {round(t_stat_1, 2)}, p-value = {round(p_value_1, 2)}\n",
      "Statistically significant!\n",
      "\n",
      "No Diabetes and Diabetic: t-statistic = -86.27, p-value = 0.0\n",
      "Statistically significant!\n",
      "\n",
      "Pre-diabetic and Diabetic: t-statistic = -6.18, p-value = 0.0\n",
      "Statistically significant!\n",
      "\n"
     ]
    },
    {
     "name": "stderr",
     "output_type": "stream",
     "text": [
      "/var/folders/_w/slj4l_0n04970tfqk3m2h6sc0000gn/T/ipykernel_4830/1381010251.py:4: DeprecationWarning: Please import `ttest_ind` from the `scipy.stats` namespace; the `scipy.stats.stats` namespace is deprecated and will be removed in SciPy 2.0.0.\n",
      "  t_stat_1, p_value_1 = stats.ttest_ind(BMI_no_diabetes, BMI_pre_diabetic)\n",
      "/var/folders/_w/slj4l_0n04970tfqk3m2h6sc0000gn/T/ipykernel_4830/1381010251.py:5: DeprecationWarning: Please import `ttest_ind` from the `scipy.stats` namespace; the `scipy.stats.stats` namespace is deprecated and will be removed in SciPy 2.0.0.\n",
      "  t_stat_2, p_value_2 = stats.ttest_ind(BMI_no_diabetes, BMI_diabetic)\n",
      "/var/folders/_w/slj4l_0n04970tfqk3m2h6sc0000gn/T/ipykernel_4830/1381010251.py:6: DeprecationWarning: Please import `ttest_ind` from the `scipy.stats` namespace; the `scipy.stats.stats` namespace is deprecated and will be removed in SciPy 2.0.0.\n",
      "  t_stat_3, p_value_3 = stats.ttest_ind(BMI_pre_diabetic, BMI_diabetic)\n"
     ]
    }
   ],
   "source": [
    "# ----------------------------\n",
    "# 2a. BMI vs DIABETES (pairwise t-tests)\n",
    "# ----------------------------\n",
    "t_stat_1, p_value_1 = stats.ttest_ind(BMI_no_diabetes, BMI_pre_diabetic)\n",
    "t_stat_2, p_value_2 = stats.ttest_ind(BMI_no_diabetes, BMI_diabetic)\n",
    "t_stat_3, p_value_3 = stats.ttest_ind(BMI_pre_diabetic, BMI_diabetic)\n",
    "\n",
    "print('\"No Diabetes and Pre-diabetic: t-statistic = {round(t_stat_1, 2)}, p-value = {round(p_value_1, 2)}')\n",
    "if p_value_1 < 0.05:\n",
    "    print('Statistically significant!\\n')\n",
    "else:\n",
    "    print('NOT statistically significant!\\n')\n",
    "    \n",
    "print(f'No Diabetes and Diabetic: t-statistic = {round(t_stat_2, 2)}, p-value = {round(p_value_2, 2)}')\n",
    "if p_value_2 < 0.05:\n",
    "    print('Statistically significant!\\n')\n",
    "else:\n",
    "    print('NOT statistically significant!\\n')\n",
    "    \n",
    "print(f'Pre-diabetic and Diabetic: t-statistic = {round(t_stat_3, 2)}, p-value = {round(p_value_3, 2)}')\n",
    "if p_value_3 < 0.05:\n",
    "    print('Statistically significant!\\n')\n",
    "else:\n",
    "    print('NOT statistically significant!\\n')"
   ]
  },
  {
   "cell_type": "markdown",
   "metadata": {},
   "source": [
    "These results reaffirm that the differences between each individual diabetic condition when grouped by BMI are statistically significant."
   ]
  },
  {
   "cell_type": "code",
   "execution_count": 63,
   "metadata": {},
   "outputs": [
    {
     "name": "stdout",
     "output_type": "stream",
     "text": [
      "Chi-square Statistic: 1268.9\n",
      "p-value: 0.0\n",
      "Statistically significant!\n",
      "\n"
     ]
    }
   ],
   "source": [
    "# ----------------------------\n",
    "# 3. PHYSICAL ACTIVITY vs DIABETES\n",
    "# ----------------------------\n",
    "# CHI-SQUARE (both variables are categorical)\n",
    "\n",
    "phys_contingency_table = pd.crosstab(df['Diabetes_Label'], df['PhysActivity'])\n",
    "\n",
    "phys_chi2_stat, phys_p_value, phys_dof, phys_expected = chi2_contingency(phys_contingency_table)\n",
    "\n",
    "print('Chi-square Statistic:', round(phys_chi2_stat, 2))\n",
    "print('p-value:', round(phys_p_value, 2))\n",
    "\n",
    "if phys_p_value < 0.05:\n",
    "    print('Statistically significant!\\n')\n",
    "else:\n",
    "    print('NOT statistically significant!\\n')"
   ]
  },
  {
   "cell_type": "markdown",
   "metadata": {},
   "source": [
    "#### Statistically significant:\n",
    "Our Chi-square statistic is really high (more likely that at least one group mean is significantly different than others). Our p-value = 0, which is < 0.05. There is strong evidence against the null hypothesis, so we can reject it. The relationship between diabetes conditions and activity level is statistically significant. Observed differences are likely not due to chance, and could be due to changes in risk factors that occur as physical activity level changes."
   ]
  },
  {
   "cell_type": "code",
   "execution_count": 64,
   "metadata": {},
   "outputs": [
    {
     "name": "stdout",
     "output_type": "stream",
     "text": [
      "Chi-square Statistic: 13664.01\n",
      "p-value: 0.0\n",
      "Statistically significant!\n",
      "\n"
     ]
    }
   ],
   "source": [
    "# ----------------------------\n",
    "# 4.GENERAL HEALTH vs DIABETES\n",
    "# ----------------------------\n",
    "# CHI-SQUARE (categorical)\n",
    "\n",
    "gen_contingency_table = pd.crosstab(df['Diabetes_Label'], df['GenHlth'])\n",
    "\n",
    "gen_chi2_stat, gen_p_value, gen_dof, gen_expected = chi2_contingency(gen_contingency_table)\n",
    "\n",
    "print('Chi-square Statistic:', round(gen_chi2_stat, 2))\n",
    "print('p-value:', round(gen_p_value, 2))\n",
    "\n",
    "if gen_p_value < 0.05:\n",
    "    print('Statistically significant!\\n')\n",
    "else:\n",
    "    print('NOT statistically significant!\\n')"
   ]
  },
  {
   "cell_type": "markdown",
   "metadata": {},
   "source": [
    "#### Statistically significant:\n",
    "Our Chi-square statistic is really high (more likely that at least one group mean is significantly different than others). Our p-value = 0, which is < 0.05. There is strong evidence against the null hypothesis, so we can reject it. The relationship between diabetes conditions and general health is statistically significant. Observed differences are likely not due to chance, and could be due to changes in risk factors that occur as general health level changes."
   ]
  },
  {
   "cell_type": "code",
   "execution_count": 65,
   "metadata": {},
   "outputs": [
    {
     "name": "stdout",
     "output_type": "stream",
     "text": [
      "F-statistic: 46.59\n",
      "p-value: 0.0\n",
      "The ANOVA test results between diabetes conditions when grouped by mental health level ARE statistically significant.\n"
     ]
    },
    {
     "name": "stderr",
     "output_type": "stream",
     "text": [
      "/var/folders/_w/slj4l_0n04970tfqk3m2h6sc0000gn/T/ipykernel_4830/1118065191.py:10: DeprecationWarning: Please import `f_oneway` from the `scipy.stats` namespace; the `scipy.stats.stats` namespace is deprecated and will be removed in SciPy 2.0.0.\n",
      "  stats_menthlth = stats.f_oneway(ment_no_diabetes, ment_pre_diabetic, ment_diabetic)\n"
     ]
    }
   ],
   "source": [
    "# ----------------------------\n",
    "# 5. MENTAL HEALTH vs DIABETES\n",
    "# ----------------------------\n",
    "# ANOVA (bc > 2 factors)\n",
    "\n",
    "ment_no_diabetes = diabetes_data.get_group('No Diabetes')['MentHlth']\n",
    "ment_pre_diabetic = diabetes_data.get_group('Pre-diabetic')['MentHlth']\n",
    "ment_diabetic = diabetes_data.get_group('Diabetic')['MentHlth']\n",
    "\n",
    "stats_menthlth = stats.f_oneway(ment_no_diabetes, ment_pre_diabetic, ment_diabetic)\n",
    "\n",
    "print('F-statistic:', round(stats_menthlth[0], 2))\n",
    "print('p-value:', round(stats_menthlth[1], 2))\n",
    "if stats_menthlth[1] < 0.05:\n",
    "    print('The ANOVA test results between diabetes conditions when grouped by mental health level ARE statistically significant.')\n",
    "else:\n",
    "    print('The ANOVA test results between diabetes conditions when grouped by mental health level ARE NOT statistically significant.')\n",
    "\n",
    "# also still technically statistically significant, but less so than other factors/ patterns"
   ]
  },
  {
   "cell_type": "markdown",
   "metadata": {},
   "source": [
    "#### Statistically significant:\n",
    "Our p-value = 0, which is < 0.05. There is evidence against the null hypothesis, so we can reject it. The differences between diabetes conditions when grouped by mental health level are statistically significant. These are likely not due to chance, and could be due to changes in risk factors that occur as mental health level changes. However, the F-statistic is not as high as other factors/patterns in the data. "
   ]
  },
  {
   "cell_type": "code",
   "execution_count": 66,
   "metadata": {},
   "outputs": [
    {
     "name": "stdout",
     "output_type": "stream",
     "text": [
      "No Diabetes and Pre-diabetic: t-statistic = -0.17, p-value = 0.87\n",
      "NOT statistically significant!\n",
      "\n",
      "No Diabetes and Diabetic: t-statistic = 9.64, p-value = 0.0\n",
      "Statistically significant!\n",
      "\n",
      "Pre-diabetic and Diabetic: t-statistic = 3.99, p-value = 0.0\n",
      "Statistically significant!\n",
      "\n"
     ]
    },
    {
     "name": "stderr",
     "output_type": "stream",
     "text": [
      "/var/folders/_w/slj4l_0n04970tfqk3m2h6sc0000gn/T/ipykernel_4830/1540865005.py:4: DeprecationWarning: Please import `ttest_ind` from the `scipy.stats` namespace; the `scipy.stats.stats` namespace is deprecated and will be removed in SciPy 2.0.0.\n",
      "  t_stat_1, p_value_1 = stats.ttest_ind(ment_no_diabetes, ment_pre_diabetic)\n",
      "/var/folders/_w/slj4l_0n04970tfqk3m2h6sc0000gn/T/ipykernel_4830/1540865005.py:5: DeprecationWarning: Please import `ttest_ind` from the `scipy.stats` namespace; the `scipy.stats.stats` namespace is deprecated and will be removed in SciPy 2.0.0.\n",
      "  t_stat_2, p_value_2 = stats.ttest_ind(ment_no_diabetes, ment_diabetic)\n",
      "/var/folders/_w/slj4l_0n04970tfqk3m2h6sc0000gn/T/ipykernel_4830/1540865005.py:6: DeprecationWarning: Please import `ttest_ind` from the `scipy.stats` namespace; the `scipy.stats.stats` namespace is deprecated and will be removed in SciPy 2.0.0.\n",
      "  t_stat_3, p_value_3 = stats.ttest_ind(ment_pre_diabetic, ment_diabetic)\n"
     ]
    }
   ],
   "source": [
    "# ----------------------------\n",
    "# 5a. MENTAL HEALTH vs DIABETES (pairwise t-tests)\n",
    "# ----------------------------\n",
    "t_stat_1, p_value_1 = stats.ttest_ind(ment_no_diabetes, ment_pre_diabetic)\n",
    "t_stat_2, p_value_2 = stats.ttest_ind(ment_no_diabetes, ment_diabetic)\n",
    "t_stat_3, p_value_3 = stats.ttest_ind(ment_pre_diabetic, ment_diabetic)\n",
    "\n",
    "print(f'No Diabetes and Pre-diabetic: t-statistic = {round(t_stat_1, 2)}, p-value = {round(p_value_1, 2)}')\n",
    "if p_value_1 < 0.05:\n",
    "    print('Statistically significant!\\n')\n",
    "else:\n",
    "    print('NOT statistically significant!\\n')\n",
    "    \n",
    "print(f'No Diabetes and Diabetic: t-statistic = {round(t_stat_2, 2)}, p-value = {round(p_value_2, 2)}')\n",
    "if p_value_2 < 0.05:\n",
    "    print('Statistically significant!\\n')\n",
    "else:\n",
    "    print('NOT statistically significant!\\n')\n",
    "    \n",
    "print(f'Pre-diabetic and Diabetic: t-statistic = {round(t_stat_3, 2)}, p-value = {round(p_value_3, 2)}')\n",
    "if p_value_3 < 0.05:\n",
    "    print('Statistically significant!\\n')\n",
    "else:\n",
    "    print('NOT statistically significant!\\n')"
   ]
  },
  {
   "cell_type": "markdown",
   "metadata": {},
   "source": [
    "These results show that the not all of the differences between each individual diabetic condition when grouped by mental health level are statistically significant. The differences between no diabetes and pre-diabetic conditions when grouped by mental health level are NOT statistically significant. The null hypothesis must be accepted in this case."
   ]
  },
  {
   "cell_type": "code",
   "execution_count": 67,
   "metadata": {},
   "outputs": [
    {
     "name": "stdout",
     "output_type": "stream",
     "text": [
      "F-statistic: 253.56\n",
      "p-value: 0.0\n",
      "The ANOVA test results between diabetes conditions when grouped by physical health level ARE statistically significant.\n"
     ]
    },
    {
     "name": "stderr",
     "output_type": "stream",
     "text": [
      "/var/folders/_w/slj4l_0n04970tfqk3m2h6sc0000gn/T/ipykernel_4830/2262213104.py:10: DeprecationWarning: Please import `f_oneway` from the `scipy.stats` namespace; the `scipy.stats.stats` namespace is deprecated and will be removed in SciPy 2.0.0.\n",
      "  stats_phys = stats.f_oneway(phys_no_diabetes, phys_pre_diabetic, phys_diabetic)\n"
     ]
    }
   ],
   "source": [
    "# ----------------------------\n",
    "# 6. PHYSICAL HEALTH vs DIABETES\n",
    "# ----------------------------\n",
    "# ANOVA (bc > 2 factors)\n",
    "\n",
    "phys_no_diabetes = diabetes_data.get_group('No Diabetes')['PhysHlth']\n",
    "phys_pre_diabetic = diabetes_data.get_group('Pre-diabetic')['PhysHlth']\n",
    "phys_diabetic = diabetes_data.get_group('Diabetic')['PhysHlth']\n",
    "\n",
    "stats_phys = stats.f_oneway(phys_no_diabetes, phys_pre_diabetic, phys_diabetic)\n",
    "\n",
    "print('F-statistic:', round(stats_phys[0], 2))\n",
    "print('p-value:', round(stats_phys[1], 2))\n",
    "if stats_phys[1] < 0.05:\n",
    "    print('The ANOVA test results between diabetes conditions when grouped by physical health level ARE statistically significant.')\n",
    "else:\n",
    "    print('The ANOVA test results between diabetes conditions when grouped by physical health level ARE NOT statistically significant.')"
   ]
  },
  {
   "cell_type": "markdown",
   "metadata": {},
   "source": [
    "#### Statistically significant:\n",
    "Our p-value = 0, which is < 0.05. There is evidence against the null hypothesis, so we can reject it. The differences between diabetes conditions when grouped by physical health level are statistically significant. These are likely not due to chance, and could be due to changes in risk factors that occur as physical health level changes. The F-statistic is also high. "
   ]
  },
  {
   "cell_type": "code",
   "execution_count": 68,
   "metadata": {},
   "outputs": [
    {
     "name": "stdout",
     "output_type": "stream",
     "text": [
      "No Diabetes and Pre-diabetic: t-statistic = -5.63, p-value = 0.0\n",
      "Statistically significant!\n",
      "\n",
      "No Diabetes and Diabetic: t-statistic = -22.09, p-value = 0.0\n",
      "Statistically significant!\n",
      "\n",
      "Pre-diabetic and Diabetic: t-statistic = -2.67, p-value = 0.01\n",
      "Statistically significant!\n",
      "\n"
     ]
    },
    {
     "name": "stderr",
     "output_type": "stream",
     "text": [
      "/var/folders/_w/slj4l_0n04970tfqk3m2h6sc0000gn/T/ipykernel_4830/2078733363.py:4: DeprecationWarning: Please import `ttest_ind` from the `scipy.stats` namespace; the `scipy.stats.stats` namespace is deprecated and will be removed in SciPy 2.0.0.\n",
      "  t_stat_1, p_value_1 = stats.ttest_ind(phys_no_diabetes, phys_pre_diabetic)\n",
      "/var/folders/_w/slj4l_0n04970tfqk3m2h6sc0000gn/T/ipykernel_4830/2078733363.py:5: DeprecationWarning: Please import `ttest_ind` from the `scipy.stats` namespace; the `scipy.stats.stats` namespace is deprecated and will be removed in SciPy 2.0.0.\n",
      "  t_stat_2, p_value_2 = stats.ttest_ind(phys_no_diabetes, phys_diabetic)\n",
      "/var/folders/_w/slj4l_0n04970tfqk3m2h6sc0000gn/T/ipykernel_4830/2078733363.py:6: DeprecationWarning: Please import `ttest_ind` from the `scipy.stats` namespace; the `scipy.stats.stats` namespace is deprecated and will be removed in SciPy 2.0.0.\n",
      "  t_stat_3, p_value_3 = stats.ttest_ind(phys_pre_diabetic, phys_diabetic)\n"
     ]
    }
   ],
   "source": [
    "# ----------------------------\n",
    "# 6a. PHYSICAL HEALTH vs DIABETES (pairwise t-tests)\n",
    "# ----------------------------\n",
    "t_stat_1, p_value_1 = stats.ttest_ind(phys_no_diabetes, phys_pre_diabetic)\n",
    "t_stat_2, p_value_2 = stats.ttest_ind(phys_no_diabetes, phys_diabetic)\n",
    "t_stat_3, p_value_3 = stats.ttest_ind(phys_pre_diabetic, phys_diabetic)\n",
    "\n",
    "print(f'No Diabetes and Pre-diabetic: t-statistic = {round(t_stat_1, 2)}, p-value = {round(p_value_1, 2)}')\n",
    "if p_value_1 < 0.05:\n",
    "    print('Statistically significant!\\n')\n",
    "else:\n",
    "    print('NOT statistically significant!\\n')\n",
    "    \n",
    "print(f'No Diabetes and Diabetic: t-statistic = {round(t_stat_2, 2)}, p-value = {round(p_value_2, 2)}')\n",
    "if p_value_2 < 0.05:\n",
    "    print('Statistically significant!\\n')\n",
    "else:\n",
    "    print('NOT statistically significant!\\n')\n",
    "    \n",
    "print(f'Pre-diabetic and Diabetic: t-statistic = {round(t_stat_3, 2)}, p-value = {round(p_value_3, 2)}')\n",
    "if p_value_3 < 0.05:\n",
    "    print('Statistically significant!\\n')\n",
    "else:\n",
    "    print('NOT statistically significant!\\n')"
   ]
  },
  {
   "cell_type": "markdown",
   "metadata": {},
   "source": [
    "These results reaffirm that the differences between each individual diabetic condition when grouped by BMI are statistically significant."
   ]
  },
  {
   "cell_type": "markdown",
   "metadata": {},
   "source": [
    "Out of the patterns investigated, here are three that we will discuss:\n",
    "\n",
    "1. Age vs Diabetes\n",
    "* Pattern: greater likelihood of being pre-diabetic or diabetic with higher ages\n",
    "* p-value: 0.0\n",
    "* Interpretation: Given the p-value of 0.0, the relationship between age and diabetes was found to be statistically significant. Using pairwise t-tests to further investigate this relationship, we found that there is a stronger statistical significance between the age differences of those who are non-diabetic vs those who are diabetic (0.0) followed by those who are non-diabetic vs those are pre-diabetic. Thus, there is a significant age gap between those that are positive of diabetes vs those that are not.\n",
    "\n",
    "\n",
    "2. Physical Activity vs Diabetes\n",
    "* Pattern: smaller likelihood of being diabetic given physical activeness\n",
    "* p-value: 2.89e-276\n",
    "* Interpretation: Given our p-value is < 0.00001, the relationship between physical activity and diabetes was found to be statistically significant. With a chi-square statistic of 1268.90, there was also large variability between our observed vs expected values, indicating a strong association between our physical activity and diabetes variables.\n",
    "\n",
    "3. Mental Health vs Diabetes\n",
    "* Pattern: weak negative relationship between diabetes and mental health (the worse the mental health, the greater the chance of having diabetes)\n",
    "* p-value: 5.88e-21\n",
    "* Interpretation: Given our p-value is < 0.00001, the relationship between mental health and diabetes was found to be statistically significant. However, the magnitude of significance is lesser than other relationships which was further explained by its pairwise t-tests. We found that there was not a statistically signficant relationship between the mental health of those who are non-diabetic vs pre-diabetic. While the other relationship were significant, it continued to be to a lesser degree."
   ]
  },
  {
   "cell_type": "code",
   "execution_count": 69,
   "metadata": {},
   "outputs": [
    {
     "name": "stdout",
     "output_type": "stream",
     "text": [
      "Variance of BMI: 22.92\n",
      "Variance of MentHlth: 1.46\n",
      "Variance of PhysHlth: 1.47\n",
      "Variance of Age: 9.43\n"
     ]
    }
   ],
   "source": [
    "# Feature Selection: Continous Variables\n",
    "\n",
    "# variance\n",
    "for col in continuous_cols:\n",
    "    print(f'Variance of {col}:', round(df[col].var(), 2))"
   ]
  },
  {
   "cell_type": "code",
   "execution_count": 73,
   "metadata": {},
   "outputs": [
    {
     "data": {
      "text/html": [
       "<div>\n",
       "<style scoped>\n",
       "    .dataframe tbody tr th:only-of-type {\n",
       "        vertical-align: middle;\n",
       "    }\n",
       "\n",
       "    .dataframe tbody tr th {\n",
       "        vertical-align: top;\n",
       "    }\n",
       "\n",
       "    .dataframe thead th {\n",
       "        text-align: right;\n",
       "    }\n",
       "</style>\n",
       "<table border=\"1\" class=\"dataframe\">\n",
       "  <thead>\n",
       "    <tr style=\"text-align: right;\">\n",
       "      <th></th>\n",
       "      <th>Chi2 Stat</th>\n",
       "      <th>p-value</th>\n",
       "    </tr>\n",
       "  </thead>\n",
       "  <tbody>\n",
       "    <tr>\n",
       "      <th>GenHlth</th>\n",
       "      <td>13664.01</td>\n",
       "      <td>0.0</td>\n",
       "    </tr>\n",
       "    <tr>\n",
       "      <th>Education</th>\n",
       "      <td>2224.13</td>\n",
       "      <td>0.0</td>\n",
       "    </tr>\n",
       "    <tr>\n",
       "      <th>Income</th>\n",
       "      <td>3502.35</td>\n",
       "      <td>0.0</td>\n",
       "    </tr>\n",
       "  </tbody>\n",
       "</table>\n",
       "</div>"
      ],
      "text/plain": [
       "           Chi2 Stat  p-value\n",
       "GenHlth     13664.01      0.0\n",
       "Education    2224.13      0.0\n",
       "Income       3502.35      0.0"
      ]
     },
     "execution_count": 73,
     "metadata": {},
     "output_type": "execute_result"
    }
   ],
   "source": [
    "# Feature Selection: Categorical Variables\n",
    "\n",
    "chi_square_results = {}\n",
    "\n",
    "# Loop through each feature and perform the Chi-square test\n",
    "for col in ordinal_cols:\n",
    "    # Create a contingency table\n",
    "    contingency_table = pd.crosstab(df[col], df['Diabetes_Label'])\n",
    "    \n",
    "    # Perform the Chi-square test\n",
    "    chi2_stat, p_value, dof, expected = chi2_contingency(contingency_table)\n",
    "    \n",
    "    # Store the results in the dictionary\n",
    "    chi_square_results[col] = {'Chi2 Stat': round(chi2_stat, 2), 'p-value': p_value}\n",
    "\n",
    "chi_square_df = pd.DataFrame.from_dict(chi_square_results, orient='index')\n",
    "chi_square_df"
   ]
  },
  {
   "cell_type": "code",
   "execution_count": 74,
   "metadata": {},
   "outputs": [
    {
     "name": "stdout",
     "output_type": "stream",
     "text": [
      "                      Chi2 Stat        p-value\n",
      "GenHlth                13664.01   0.000000e+00\n",
      "HighBP                 11130.64   0.000000e+00\n",
      "HighChol                6055.52   0.000000e+00\n",
      "DiffWalk                4033.00   0.000000e+00\n",
      "HeartDiseaseorAttack    3927.94   0.000000e+00\n",
      "Income                  3502.35   0.000000e+00\n",
      "Education               2224.13   0.000000e+00\n",
      "PhysActivity            1268.90  2.894662e-276\n",
      "Stroke                  1217.67  3.853691e-265\n",
      "CholCheck                724.11  5.772068e-158\n",
      "Smoker                   565.50  1.599257e-123\n",
      "Veggies                  453.43   3.450370e-99\n",
      "HvyAlcoholConsump        437.04   1.253425e-95\n",
      "Sex                      429.04   6.852986e-94\n",
      "Fruits                   225.30   1.191509e-49\n",
      "AnyHealthcare             51.99   5.135779e-12\n",
      "NoDocbcCost               29.83   3.332359e-07\n"
     ]
    }
   ],
   "source": [
    "# Feature Selection: Binary Variables\n",
    "\n",
    "binary_results = []\n",
    "\n",
    "# Loop through each feature and perform the Chi-square test\n",
    "for col in binary_cols:\n",
    "    # Create a contingency table\n",
    "    contingency_table = pd.crosstab(df[col], df['Diabetes_Label'])\n",
    "    \n",
    "    # Perform the Chi-square test\n",
    "    chi2_stat, p_value, dof, expected = chi2_contingency(contingency_table)\n",
    "    \n",
    "    # Append the result to the list as a DataFrame\n",
    "    result_df = pd.DataFrame({'Chi2 Stat': [chi2_stat], 'p-value': [p_value]}, index=[col])\n",
    "    \n",
    "    # Add this result to the list\n",
    "    binary_results.append(result_df)\n",
    "\n",
    "# Concatenate all results (categorical and binary) into a single DataFrame\n",
    "final_df = pd.concat([chi_square_df] + binary_results)\n",
    "final_df['Chi2 Stat'] = final_df['Chi2 Stat'].round(2)\n",
    "\n",
    "# Display the updated DataFrame with binary features added\n",
    "print(final_df.sort_values(by='Chi2 Stat', ascending=False))"
   ]
  },
  {
   "cell_type": "markdown",
   "metadata": {},
   "source": [
    "Out of the 6 features tested, we found that all relationships were statistically significant and had p-values that were very, very small (at times so small that they output as 0). We ultimately chose 7 features: BMI, Physical Health, Age, General Health, High Blood Pressure, Heart Disease or Attack, and Physical Activity. For continuous variables, we decided to not include Mental Health as it had a similar variance to Physical Health and would be redundant. In terms of correlations, our continuous variables BMI, Physical Health, and Age demonstrated the strongest correlations with our Diabetes indicator. For categorical/ binary variables, we decided to include GenHlth, HighBP, HeartDiseaseorAttack, and PhysActivity. We chose these variables as they demonstrated the smallest P-values (greatest statistical significance) and largest chi2-stats (greater variability); at the same time, we believe these features avoid multicolinearity as they should act relatively independent of each other.  \n",
    "\n",
    "CHOSEN FEATURES: \n",
    "1. BMI\n",
    "2. PHYSHLTH\n",
    "3. AGE\n",
    "4. GENHLTH\n",
    "5. HIGHBP\n",
    "6. HEARTDISEASEORATTACK\n",
    "7. PHYSACTIVITY"
   ]
  },
  {
   "cell_type": "markdown",
   "metadata": {},
   "source": [
    "## Question 4b:\n",
    "\n",
    "This is an optional challenge question. Its purpose is to identify new features that can be included in the ML modeling below.\n",
    "\n",
    "Perform ONE of the following\n",
    "\n",
    "(1) Feature engineering: Machine learning models can benefit from feature engineering. Create a new feature that can be included in the model and perform significance testing to determine if it's statistically significant. Explain the results and justify if the feature will be included in the ML model. If you decide that you will not include the new feature in the ML model, explain the reasons.\n",
    "\n",
    "OR\n",
    "\n",
    "(2) Statistical tests: Research a new type of statistical test that was not introduced in this course and write python code to demonstrate at least two significance tests between features in the dataset. Explain the test, the results and justify if the feature will be included in the ML model. If you decide that you will not include the analyzed feature(s) in the ML model, explain the reasons. Note: you are welcome to use libraries to perform the tests."
   ]
  },
  {
   "cell_type": "code",
   "execution_count": 75,
   "metadata": {},
   "outputs": [
    {
     "data": {
      "image/png": "[encoded data removed]",
      "text/plain": [
       "<Figure size 900x500 with 1 Axes>"
      ]
     },
     "metadata": {},
     "output_type": "display_data"
    },
    {
     "name": "stdout",
     "output_type": "stream",
     "text": [
      "ANOVA F-statistic: 1475.12\n",
      "p-value: 0.0\n",
      "HealthScore IS statistically significant and may be useful for modeling.\n"
     ]
    }
   ],
   "source": [
    "from scipy.stats import f_oneway\n",
    "import seaborn as sns\n",
    "import matplotlib.pyplot as plt\n",
    "\n",
    "# Step 0: Copy the original DataFrame\n",
    "df_temp = df.copy()\n",
    "\n",
    "# Step 1: Create new feature in the copy\n",
    "df_temp['HealthScore'] = df_temp['GenHlth'].astype(int) + df_temp['MentHlth'] + df_temp['PhysHlth']\n",
    "\n",
    "# Step 2: Visualize\n",
    "sns.boxplot(data=df_temp, x='Diabetes_012', y='HealthScore')\n",
    "plt.title('HealthScore vs Diabetes Outcome')\n",
    "plt.xlabel('Diabetes Class (0 = No, 1 = Pre, 2 = Diabetic)')\n",
    "plt.ylabel('HealthScore (lower is better)')\n",
    "plt.show()\n",
    "\n",
    "# Step 3: ANOVA test to check significance\n",
    "group0 = df_temp[df_temp['Diabetes_012'] == 0]['HealthScore']\n",
    "group1 = df_temp[df_temp['Diabetes_012'] == 1]['HealthScore']\n",
    "group2 = df_temp[df_temp['Diabetes_012'] == 2]['HealthScore']\n",
    "\n",
    "f_stat, p_value = f_oneway(group0, group1, group2)\n",
    "print('ANOVA F-statistic:', round(f_stat, 2))\n",
    "print('p-value:', round(p_value, 5))\n",
    "\n",
    "# Step 4: Interpretation\n",
    "if p_value < 0.05:\n",
    "    print('HealthScore IS statistically significant and may be useful for modeling.')\n",
    "else:\n",
    "    print('HealthScore is NOT statistically significant. Likely will not help the model.') "
   ]
  },
  {
   "cell_type": "markdown",
   "metadata": {},
   "source": [
    "### Question 4b: Feature Engineering\n",
    "\n",
    "To explore the potential for enhancing our model, we engineered a new feature called `HealthScore`. This feature combines three existing health indicators: **General Health (GenHlth), Physical Health (PhysHlth), and Mental Health (MentHlth)**. The logic behind this is that these three variables collectively represent an individual's perceived and actual well-being, and might provide a stronger signal when grouped together compared to being used independently.\n",
    "\n",
    "We calculated `HealthScore` as: HealthScore = GenHlth + PhysHlth + MentHlth\n",
    "\n",
    "\n",
    "This creates a single composite score where **higher values indicate worse overall health**. \n",
    "\n",
    "#### Statistical Test:\n",
    "To assess whether `HealthScore` had a significant relationship with diabetes outcomes, we performed a **one-way ANOVA** comparing the means of HealthScore across the three diabetes classes (0 = No diabetes, 1 = Pre-diabetic, 2 = Diabetic). The results were:\n",
    "\n",
    "- **ANOVA F-statistic**: 1475.12\n",
    "- **p-value**: < 0.00001\n",
    "\n",
    "These results indicate that the means are significantly different across the diabetes groups, and that `HealthScore` is a **statistically significant predictor** of diabetes status.\n",
    "\n",
    "#### Decision:\n",
    "Despite the strong statistical evidence, we have chosen **not to include** `HealthScore` in the final ML model. The reasons are:\n",
    "\n",
    "1. **Feature redundancy**: HealthScore is derived directly from three existing features (GenHlth, PhysHlth, MentHlth), which are already strong independent predictors and included in the model.\n",
    "2. **Risk of multicollinearity**: Including both the original variables and their combination could introduce correlation that may distort model coefficients or importance scores.\n",
    "3. **Interpretability**: Keeping the original features allows for clearer insights into which specific aspects of health most influence diabetes risk.\n",
    "\n",
    "We believe that preserving the original granularity provides a more interpretable and reliable model, especially in a healthcare context where understanding **why** someone is classified at risk is as important as the prediction itself.\n"
   ]
  },
  {
   "cell_type": "markdown",
   "metadata": {},
   "source": [
    "## Question 5\n",
    "\n",
    "- Partition the data into train/test sets. After which, perform the following:\n",
    "    - encode any categorical data. Ensure that categorical variables are represented correctly.\n",
    "    - normalize numeric data.\n",
    "    \n",
    "Tip: Ensure that you use sklearn to normalize and/or encode the training data, after which transform the test set (there is an example in the lecture)."
   ]
  },
  {
   "cell_type": "code",
   "execution_count": 76,
   "metadata": {},
   "outputs": [
    {
     "name": "stdout",
     "output_type": "stream",
     "text": [
      "Training data shape: (127765, 10)\n",
      "Test data shape: (54757, 10)\n"
     ]
    }
   ],
   "source": [
    "from sklearn.model_selection import train_test_split\n",
    "from sklearn.preprocessing import StandardScaler, OneHotEncoder\n",
    "from sklearn.compose import ColumnTransformer\n",
    "from sklearn.pipeline import Pipeline\n",
    "from sklearn.utils import shuffle\n",
    "\n",
    "# Shuffle data\n",
    "df = shuffle(df, random_state=42)\n",
    "\n",
    "# Drop helper column if exists\n",
    "if 'Diabetes_Label' in df.columns:\n",
    "    df = df.drop(columns='Diabetes_Label')\n",
    "\n",
    "# Define features and target\n",
    "selected_features = ['BMI', 'PhysHlth', 'Age', 'GenHlth', 'HighBP', 'HeartDiseaseorAttack', 'PhysActivity']\n",
    "X = df[selected_features]\n",
    "y = df['Diabetes_012'].astype(int)\n",
    "\n",
    "# Identify columns\n",
    "categorical_features = ['GenHlth', 'HeartDiseaseorAttack', 'PhysActivity']\n",
    "numerical_features = ['GenHlth', 'PhysHlth', 'Age', 'BMI']\n",
    "\n",
    "# Train-test split\n",
    "X_train, X_test, y_train, y_test = train_test_split(X, y, test_size=0.3, stratify=y, random_state=42)\n",
    "\n",
    "# Column transformer with OneHotEncoder for all categoricals\n",
    "preprocessor = ColumnTransformer(\n",
    "    transformers=[\n",
    "        ('num', StandardScaler(), numerical_features),\n",
    "        ('cat', OneHotEncoder(drop='first', sparse_output=False), categorical_features)\n",
    "    ]\n",
    ")\n",
    "\n",
    "# Fit-transform the training set, transform the test set\n",
    "X_train_processed = preprocessor.fit_transform(X_train)\n",
    "X_test_processed = preprocessor.transform(X_test)\n",
    "\n",
    "# Output shapes\n",
    "print('Training data shape:', X_train_processed.shape)\n",
    "print('Test data shape:', X_test_processed.shape)"
   ]
  },
  {
   "cell_type": "markdown",
   "metadata": {},
   "source": [
    "## Question 6\n",
    "\n",
    "Build the ML model that predicts the target variable based on the selected features. Ensure that you:\n",
    "- Demonstrate the training, evaluation and tuning for at least three algorithms that can handle non linear data and multiple input features/variables. NOTE: you can only select one tree-based algorithm and you must select multiple input features for the ML modeling.\n",
    "- Use GridSearchCV to tune at least two hyperparameters for each algorithm.\n",
    "- Note: do not change the input features in your experiments."
   ]
  },
  {
   "cell_type": "code",
   "execution_count": 95,
   "metadata": {},
   "outputs": [
    {
     "name": "stdout",
     "output_type": "stream",
     "text": [
      "Predictions: [0 0 0 ... 0 0 0]\n"
     ]
    }
   ],
   "source": [
    "# ----------------------------\n",
    "# Model 1. SVM\n",
    "# ----------------------------\n",
    "\n",
    "from sklearn.svm import SVC\n",
    "from sklearn.metrics import precision_score\n",
    "from sklearn.metrics import make_scorer\n",
    "from sklearn.model_selection import GridSearchCV\n",
    "\n",
    "X_train_processed = pd.DataFrame(X_train_processed).reset_index(drop=True)\n",
    "y_train = pd.DataFrame(y_train).reset_index(drop=True)\n",
    "\n",
    "X_sample = (X_train_processed.sample(n=20000, random_state=42))\n",
    "y_sample = np.array(y_train.loc[X_sample.index])\n",
    "y_sample = np.squeeze(y_sample)\n",
    "\n",
    "# Instantiate and train the SVM model\n",
    "svm = SVC(kernel='rbf')\n",
    "svm.fit(X_sample, y_sample)\n",
    "\n",
    "y_pred_svc = svm.predict(X_test_processed)\n",
    "print('Predictions:', y_pred_svc)"
   ]
  },
  {
   "cell_type": "code",
   "execution_count": 96,
   "metadata": {},
   "outputs": [
    {
     "name": "stdout",
     "output_type": "stream",
     "text": [
      "Precision of model: 0.51\n"
     ]
    }
   ],
   "source": [
    "# Determine precision score\n",
    "precision = precision_score(y_test, y_pred_svc, average='macro', zero_division=0)\n",
    "print('Precision of model:', round(precision, 2))"
   ]
  },
  {
   "cell_type": "code",
   "execution_count": 98,
   "metadata": {},
   "outputs": [
    {
     "name": "stdout",
     "output_type": "stream",
     "text": [
      "The best parameters for the SVC model are: {'C': 10, 'gamma': 0.1}\n",
      "The best precision score is: 0.44\n"
     ]
    }
   ],
   "source": [
    "# Set ranges for parameter tuning\n",
    "params = {'C': [1, 10, 100],\n",
    "              'gamma':[0.01, 0.1, 1]}\n",
    "\n",
    "# Initialize precision scorer\n",
    "precision_scorer = make_scorer(precision_score, zero_division=0, average='macro')\n",
    "\n",
    "# Use GridSearch with Cross Validation = 3, and scoring = precision scorer to test each combination of parameters\n",
    "svm_grid = GridSearchCV(svm, params, cv=5, scoring=precision_scorer, n_jobs=-1, return_train_score=True)\n",
    "\n",
    "# Fit the model to the training data\n",
    "svm_grid.fit(X_sample, y_sample)\n",
    "\n",
    "# Determine the best parameters & score \n",
    "print('The best parameters for the SVC model are:', svm_grid.best_params_)\n",
    "print('The best precision score is:', round(svm_grid.best_score_, 2))"
   ]
  },
  {
   "cell_type": "code",
   "execution_count": 99,
   "metadata": {},
   "outputs": [
    {
     "data": {
      "text/html": [
       "<div>\n",
       "<style scoped>\n",
       "    .dataframe tbody tr th:only-of-type {\n",
       "        vertical-align: middle;\n",
       "    }\n",
       "\n",
       "    .dataframe tbody tr th {\n",
       "        vertical-align: top;\n",
       "    }\n",
       "\n",
       "    .dataframe thead th {\n",
       "        text-align: right;\n",
       "    }\n",
       "</style>\n",
       "<table border=\"1\" class=\"dataframe\">\n",
       "  <thead>\n",
       "    <tr style=\"text-align: right;\">\n",
       "      <th></th>\n",
       "      <th>mean_train_score</th>\n",
       "      <th>std_train_score</th>\n",
       "      <th>mean_test_score</th>\n",
       "      <th>std_test_score</th>\n",
       "    </tr>\n",
       "  </thead>\n",
       "  <tbody>\n",
       "    <tr>\n",
       "      <th>4</th>\n",
       "      <td>0.54</td>\n",
       "      <td>0.01</td>\n",
       "      <td>0.44</td>\n",
       "      <td>0.01</td>\n",
       "    </tr>\n",
       "    <tr>\n",
       "      <th>7</th>\n",
       "      <td>0.88</td>\n",
       "      <td>0.01</td>\n",
       "      <td>0.43</td>\n",
       "      <td>0.03</td>\n",
       "    </tr>\n",
       "    <tr>\n",
       "      <th>2</th>\n",
       "      <td>0.56</td>\n",
       "      <td>0.01</td>\n",
       "      <td>0.42</td>\n",
       "      <td>0.03</td>\n",
       "    </tr>\n",
       "    <tr>\n",
       "      <th>5</th>\n",
       "      <td>0.89</td>\n",
       "      <td>0.01</td>\n",
       "      <td>0.41</td>\n",
       "      <td>0.01</td>\n",
       "    </tr>\n",
       "    <tr>\n",
       "      <th>8</th>\n",
       "      <td>0.91</td>\n",
       "      <td>0.01</td>\n",
       "      <td>0.40</td>\n",
       "      <td>0.02</td>\n",
       "    </tr>\n",
       "  </tbody>\n",
       "</table>\n",
       "</div>"
      ],
      "text/plain": [
       "   mean_train_score  std_train_score  mean_test_score  std_test_score\n",
       "4              0.54             0.01             0.44            0.01\n",
       "7              0.88             0.01             0.43            0.03\n",
       "2              0.56             0.01             0.42            0.03\n",
       "5              0.89             0.01             0.41            0.01\n",
       "8              0.91             0.01             0.40            0.02"
      ]
     },
     "execution_count": 99,
     "metadata": {},
     "output_type": "execute_result"
    }
   ],
   "source": [
    "# Save the results in a DataFrame\n",
    "cv_results_svm = pd.DataFrame(svm_grid.cv_results_)\n",
    "\n",
    "# Show the mean & st. dev of precision scores for the testing & training data\n",
    "cv_results_svm = cv_results_svm.sort_values('mean_test_score', ascending=False)\n",
    "cv_results_svm = cv_results_svm.round(2)\n",
    "cv_results_svm[['mean_train_score', 'std_train_score', 'mean_test_score', 'std_test_score']].head()"
   ]
  },
  {
   "cell_type": "markdown",
   "metadata": {},
   "source": [
    "The first model chosen was a Radial Basis Function kernel SVM model. This model can handle complex, non-linear data with multiple features. In particular, rbf can map data onto higher-dimensional spaces, allowing for the separation of data cannot undergo separation using linear boundaries in the original space. Since seven features were chosen with nonlinear relationships, the rbf kernel model was well suited.\n",
    "\n",
    "Precision was chosen to evaluate all three models. There is a high cost for false positives when making medical diagnoses to predict when a patient has a disease. In this case, we would not want to falsely tell a patient that they have diabetes. Therefore, precision is the best metric to use.\n",
    "\n",
    "To avoid an infinitely long computation time, a random sample of 20,000 from the training data was used to train this model. For comparison, this sample was used to train all three models. The initial model produced a precision score of 0.51. This is a not a strong precision score, indicating that the model is able to predict correct positive instances of diabetes only 51% of the time. An ideal precision metric would be much closer to 100%.\n",
    "\n",
    "Two hyperparameters that can be tuned in this model are C and gamma. Common ranges of C and gamma were used to tune these parameters (soucre: https://scikit-learn.org/stable/auto_examples/svm/plot_rbf_parameters.html)\n",
    "\n",
    "A GridSearch was performed, using a cross validation of 5-fold to obtain optimal parameter values from the ranges for C and gamma. In this case, only three values of each were tested to avoid infinitely long computation times. However, upon testing this code these three values were adjusted to further tune the model before optimal testing values were set. the optimal value of 'C' was determined to be 10. The optimal value of 'gamma' was determined to be 0.1.\n",
    "\n",
    "Using these parameters, the precision was decreased by 7% to 44%. This model is still not ideal, since the model fails to predict instances of diabetes 56% of the time."
   ]
  },
  {
   "cell_type": "code",
   "execution_count": 108,
   "metadata": {},
   "outputs": [
    {
     "name": "stdout",
     "output_type": "stream",
     "text": [
      "Predictions: [0 0 0 ... 0 0 0]\n"
     ]
    }
   ],
   "source": [
    "# ----------------------------\n",
    "# Model 2. K-NN\n",
    "# ----------------------------\n",
    "\n",
    "from sklearn.neighbors import KNeighborsClassifier\n",
    "\n",
    "# Determine length of training set, and find the square root of the length\n",
    "sqrt_N = round(len(X_sample) ** (1/2))\n",
    "\n",
    "# Instantiate the knn model, where n_neighbors = sq rt of the length of the training data\n",
    "knn = KNeighborsClassifier(n_neighbors = sqrt_N)\n",
    "\n",
    "# Fit the model to the training data & use model to predict the testing data\n",
    "knn.fit(X_sample, y_sample)\n",
    "y_pred_knn = knn.predict(X_test_processed)\n",
    "\n",
    "print('Predictions:', y_pred_knn)"
   ]
  },
  {
   "cell_type": "code",
   "execution_count": 109,
   "metadata": {},
   "outputs": [
    {
     "name": "stdout",
     "output_type": "stream",
     "text": [
      "Precision of model: 0.39\n"
     ]
    }
   ],
   "source": [
    "# Determine precision score\n",
    "precision_knn = precision_score(y_test, y_pred_knn, average='macro', zero_division=0)\n",
    "print('Precision of model:', round(precision_knn, 2))"
   ]
  },
  {
   "cell_type": "code",
   "execution_count": 120,
   "metadata": {},
   "outputs": [
    {
     "name": "stdout",
     "output_type": "stream",
     "text": [
      "The best parameters for the SVC model are: {'n_neighbors': 61, 'weights': 'uniform'}\n",
      "The best precision score is: 0.46\n"
     ]
    }
   ],
   "source": [
    "# Choose a range of K values that is ~10 above and below the square root\n",
    "# Choose typical values for weights\n",
    "# Save parameter values in a dictionary \n",
    "upper_k_values = list(range(sqrt_N, sqrt_N + 120, 20))\n",
    "lower_k_values = list(range(sqrt_N - 120, sqrt_N, 20))\n",
    "k_values = list(set(upper_k_values + lower_k_values))\n",
    "weights = ('uniform', 'distance')\n",
    "knn_params = {'n_neighbors': k_values, 'weights': weights}\n",
    "\n",
    "# Initialize model\n",
    "knn = KNeighborsClassifier()\n",
    "\n",
    "# Use GridSearch with Cross Validation = 3, and scoring = precision scorer to test each combination of parameters\n",
    "knn_grid = GridSearchCV(knn, knn_params, cv=5, return_train_score=True, scoring=precision_scorer, n_jobs=-1)\n",
    "\n",
    "# Fit the model to the training data\n",
    "knn_grid.fit(X_sample, y_sample)\n",
    "\n",
    "# Determine the best parameters & score \n",
    "print('The best parameters for the SVC model are:', knn_grid.best_params_)\n",
    "print('The best precision score is:', round(knn_grid.best_score_, 2))"
   ]
  },
  {
   "cell_type": "code",
   "execution_count": 121,
   "metadata": {},
   "outputs": [
    {
     "data": {
      "text/html": [
       "<div>\n",
       "<style scoped>\n",
       "    .dataframe tbody tr th:only-of-type {\n",
       "        vertical-align: middle;\n",
       "    }\n",
       "\n",
       "    .dataframe tbody tr th {\n",
       "        vertical-align: top;\n",
       "    }\n",
       "\n",
       "    .dataframe thead th {\n",
       "        text-align: right;\n",
       "    }\n",
       "</style>\n",
       "<table border=\"1\" class=\"dataframe\">\n",
       "  <thead>\n",
       "    <tr style=\"text-align: right;\">\n",
       "      <th></th>\n",
       "      <th>mean_train_score</th>\n",
       "      <th>std_train_score</th>\n",
       "      <th>mean_test_score</th>\n",
       "      <th>std_test_score</th>\n",
       "    </tr>\n",
       "  </thead>\n",
       "  <tbody>\n",
       "    <tr>\n",
       "      <th>14</th>\n",
       "      <td>0.48</td>\n",
       "      <td>0.02</td>\n",
       "      <td>0.46</td>\n",
       "      <td>0.06</td>\n",
       "    </tr>\n",
       "    <tr>\n",
       "      <th>12</th>\n",
       "      <td>0.44</td>\n",
       "      <td>0.03</td>\n",
       "      <td>0.45</td>\n",
       "      <td>0.09</td>\n",
       "    </tr>\n",
       "    <tr>\n",
       "      <th>18</th>\n",
       "      <td>0.50</td>\n",
       "      <td>0.01</td>\n",
       "      <td>0.44</td>\n",
       "      <td>0.02</td>\n",
       "    </tr>\n",
       "    <tr>\n",
       "      <th>6</th>\n",
       "      <td>0.47</td>\n",
       "      <td>0.01</td>\n",
       "      <td>0.44</td>\n",
       "      <td>0.03</td>\n",
       "    </tr>\n",
       "    <tr>\n",
       "      <th>19</th>\n",
       "      <td>0.88</td>\n",
       "      <td>0.01</td>\n",
       "      <td>0.40</td>\n",
       "      <td>0.02</td>\n",
       "    </tr>\n",
       "  </tbody>\n",
       "</table>\n",
       "</div>"
      ],
      "text/plain": [
       "    mean_train_score  std_train_score  mean_test_score  std_test_score\n",
       "14              0.48             0.02             0.46            0.06\n",
       "12              0.44             0.03             0.45            0.09\n",
       "18              0.50             0.01             0.44            0.02\n",
       "6               0.47             0.01             0.44            0.03\n",
       "19              0.88             0.01             0.40            0.02"
      ]
     },
     "execution_count": 121,
     "metadata": {},
     "output_type": "execute_result"
    }
   ],
   "source": [
    "# Save the score results in a DataFrame\n",
    "cv_knn_results = pd.DataFrame(knn_grid.cv_results_)\n",
    "\n",
    "# Show the mean & st. dev of precision scores for the testing & training data\n",
    "cv_knn_results = cv_knn_results.sort_values('mean_test_score', ascending=False)\n",
    "cv_knn_results = cv_knn_results.round(2)\n",
    "cv_knn_results[['mean_train_score', 'std_train_score', 'mean_test_score', 'std_test_score']].head()"
   ]
  },
  {
   "cell_type": "markdown",
   "metadata": {},
   "source": [
    "The second model chosen was a K-Nearest Neighbors model. This model is suited for classification tasks, and can handle complex, non-linear data with multiple features. \n",
    "\n",
    "To avoid an infinitely long computation time, a random sample of 20,000 from the training data was used to train this model. The initial K-NN model produced a precision score of 0.39. This is a very weak precision score, indicating that the model is able to predict correct positive instances of diabetes only 39% of the time. \n",
    "\n",
    "Two hyperparameters that can be tuned in this model are n_neighbors and weights. To tune n_neighbors, the square root of the length of the training test. This is typically used as a first guess. Then, 6 values above and below this value were specified for the range. To tune weights, typical values for this parameter were used. (soucre:https://scikit-learn.org/stable/modules/generated/sklearn.neighbors.KNeighborsClassifier.html)\n",
    "\n",
    "A GridSearch was performed, using a cross validation of 5-fold to obtain optimal parameter values from the ranges for n_neighbors and weights. In this case, the optimal value of 'n_neighbors' was determined to be 61. The optimal value of 'weights' was determined to be 'uniform'.\n",
    "\n",
    "Using these parameters, the precision increased by 7% to 46%. This model is still not ideal, since the model fails to predict instances of diabetes 54% of the time."
   ]
  },
  {
   "cell_type": "code",
   "execution_count": 104,
   "metadata": {},
   "outputs": [
    {
     "name": "stdout",
     "output_type": "stream",
     "text": [
      "Predictions: [0 0 0 ... 0 0 0]\n"
     ]
    }
   ],
   "source": [
    "# ----------------------------\n",
    "# Model 3. RandomForestClassifier\n",
    "# ----------------------------\n",
    "\n",
    "from sklearn.ensemble import RandomForestClassifier\n",
    "\n",
    "# Instantiate the RandomForestClassifier model\n",
    "rfc = RandomForestClassifier()\n",
    "\n",
    "# Fit the model to the training data & use model to predict the testing data\n",
    "rfc.fit(X_sample, y_sample)\n",
    "y_pred_rfc = rfc.predict(X_test_processed)\n",
    "\n",
    "print('Predictions:', y_pred_rfc)"
   ]
  },
  {
   "cell_type": "code",
   "execution_count": 105,
   "metadata": {},
   "outputs": [
    {
     "name": "stdout",
     "output_type": "stream",
     "text": [
      "Precision of model: 0.41\n"
     ]
    }
   ],
   "source": [
    "# Determine precision score\n",
    "precision_rfc = precision_score(y_test, y_pred_rfc, average='macro', zero_division=0)\n",
    "print('Precision of model:', round(precision_rfc, 2))"
   ]
  },
  {
   "cell_type": "code",
   "execution_count": 106,
   "metadata": {},
   "outputs": [
    {
     "name": "stdout",
     "output_type": "stream",
     "text": [
      "The best parameters for the SVC model are: {'max_depth': 6, 'n_estimators': 110}\n",
      "The best precision score is: 0.56\n"
     ]
    }
   ],
   "source": [
    "# Choose a range of n_estimators and max_depth based on common values\n",
    "n_estimators = (list(range(10, 500, 50)))\n",
    "max_depth = (list(range(2, 8)))\n",
    "\n",
    "# Save parameters in a dictionary\n",
    "# Initialize model\n",
    "rfc_params = {'n_estimators': n_estimators, 'max_depth' : max_depth}\n",
    "rfc = RandomForestClassifier()\n",
    "\n",
    "# Use GridSearch with Cross Validation = 5, and scoring = precision scorer to test each combination of parameters\n",
    "rfc_grid = GridSearchCV(rfc, rfc_params, cv=5, return_train_score=True, scoring=precision_scorer, n_jobs=-1)\n",
    "\n",
    "# Fit the model to the training data\n",
    "rfc_grid.fit(X_sample, y_sample)\n",
    "\n",
    "# Determine the best parameters & score \n",
    "print('The best parameters for the SVC model are:', rfc_grid.best_params_)\n",
    "print('The best precision score is:', round(rfc_grid.best_score_, 2))"
   ]
  },
  {
   "cell_type": "code",
   "execution_count": 107,
   "metadata": {},
   "outputs": [
    {
     "data": {
      "text/html": [
       "<div>\n",
       "<style scoped>\n",
       "    .dataframe tbody tr th:only-of-type {\n",
       "        vertical-align: middle;\n",
       "    }\n",
       "\n",
       "    .dataframe tbody tr th {\n",
       "        vertical-align: top;\n",
       "    }\n",
       "\n",
       "    .dataframe thead th {\n",
       "        text-align: right;\n",
       "    }\n",
       "</style>\n",
       "<table border=\"1\" class=\"dataframe\">\n",
       "  <thead>\n",
       "    <tr style=\"text-align: right;\">\n",
       "      <th></th>\n",
       "      <th>mean_train_score</th>\n",
       "      <th>std_train_score</th>\n",
       "      <th>mean_test_score</th>\n",
       "      <th>std_test_score</th>\n",
       "    </tr>\n",
       "  </thead>\n",
       "  <tbody>\n",
       "    <tr>\n",
       "      <th>42</th>\n",
       "      <td>0.62</td>\n",
       "      <td>0.01</td>\n",
       "      <td>0.56</td>\n",
       "      <td>0.13</td>\n",
       "    </tr>\n",
       "    <tr>\n",
       "      <th>47</th>\n",
       "      <td>0.62</td>\n",
       "      <td>0.01</td>\n",
       "      <td>0.49</td>\n",
       "      <td>0.12</td>\n",
       "    </tr>\n",
       "    <tr>\n",
       "      <th>41</th>\n",
       "      <td>0.62</td>\n",
       "      <td>0.01</td>\n",
       "      <td>0.49</td>\n",
       "      <td>0.11</td>\n",
       "    </tr>\n",
       "    <tr>\n",
       "      <th>54</th>\n",
       "      <td>0.61</td>\n",
       "      <td>0.02</td>\n",
       "      <td>0.47</td>\n",
       "      <td>0.06</td>\n",
       "    </tr>\n",
       "    <tr>\n",
       "      <th>53</th>\n",
       "      <td>0.61</td>\n",
       "      <td>0.01</td>\n",
       "      <td>0.46</td>\n",
       "      <td>0.05</td>\n",
       "    </tr>\n",
       "  </tbody>\n",
       "</table>\n",
       "</div>"
      ],
      "text/plain": [
       "    mean_train_score  std_train_score  mean_test_score  std_test_score\n",
       "42              0.62             0.01             0.56            0.13\n",
       "47              0.62             0.01             0.49            0.12\n",
       "41              0.62             0.01             0.49            0.11\n",
       "54              0.61             0.02             0.47            0.06\n",
       "53              0.61             0.01             0.46            0.05"
      ]
     },
     "execution_count": 107,
     "metadata": {},
     "output_type": "execute_result"
    }
   ],
   "source": [
    "# Save the score results in a DataFrame\n",
    "cv_rfc_results = pd.DataFrame(rfc_grid.cv_results_)\n",
    "\n",
    "# Show the mean & st. dev of precision scores for the testing & training data\n",
    "cv_rfc_results = cv_rfc_results.sort_values('mean_test_score', ascending=False)\n",
    "cv_rfc_results = cv_rfc_results.round(2)\n",
    "cv_rfc_results[['mean_train_score', 'std_train_score', 'mean_test_score', 'std_test_score']].head()"
   ]
  },
  {
   "cell_type": "markdown",
   "metadata": {},
   "source": [
    "The third model chosen was the Random Forest Classifier. This model was chosen because it can be used for classification models when using large and complex datasets. Since this dataset has many features and a categorical target variable, this model is well suited.\n",
    "\n",
    "To avoid an infinitely long computation time, a random sample of 20,000 from the training data was used to train this model. This initial model produced a precision score of 0.41. This is also not a strong precision score, indicating that the model is only able to predict correct positive instances of diabetes less than 41% of the time. \n",
    "\n",
    "Two hyperparameters that can be tuned in this model are n_estimators and max_depth. To tune both paramters, typical values were used. To avoid long computation times, these were also adjusted each run so that a few values could be tested a(soucre: https://docs.interpretable.ai/stable/OptimalTrees/tuning/#:~:text=Typically%20values%20for%20max_depth%20in,the%20performance%20stops%20significantly%20improving.&text=We%20can%20see%20that%20the,deeper%20trees%20with%20this%20data.)\n",
    "(source: \n",
    "https://xgboosting.com/configure-xgboost-n_estimators-parameter/#:~:text=Typical%20ranges%20for%20n_estimators%20are,balances%20performance%20and%20computational%20cost.)\n",
    "\n",
    "\n",
    "A GridSearch was performed, using a cross validation of 5-fold to obtain optimal parameter values from the ranges for n_estimators and max_depth. In this case, the optimal value of 'n_estimators' was determined to be 310. The optimal value of 'max_depth' was determined to be 5.\n",
    "\n",
    "Using these parameters, the precision was improved by 1% to 70%. Although, this model is still not ideal, since the model fails to predict instances of diabetes 30% of the time.\n",
    "\n",
    "According to the scores above, this model is not working consistently. The mean precision scores for the testing and training data are not the same, with significantly higher scores for the training data than for the testing data. These differences are as high as 17%, indicating that the model is overfitting the training data and has a large amount of variance. The model has become sensitive to noise in the training data, and is performing much worse on the testing data as a result. However, the model has low bias since the scores for both sets of data are relatively high (above 50%).\n",
    "\n",
    "\n",
    "\n",
    "\n",
    "The initial K-NN model produced a precision score of 0.39. This is a very weak precision score, indicating that the model is able to predict correct positive instances of diabetes only 39% of the time. \n",
    "\n",
    "Two hyperparameters that can be tuned in this model are n_neighbors and weights. To tune n_neighbors, the square root of the length of the training test. This is typically used as a first guess. Then, 6 values above and below this value were specified for the range. To tune weights, typical values for this parameter were used. (soucre:https://scikit-learn.org/stable/modules/generated/sklearn.neighbors.KNeighborsClassifier.html)\n",
    "\n",
    "A GridSearch was performed, using a cross validation of 5-fold to obtain optimal parameter values from the ranges for n_neighbors and weights. In this case, the optimal value of 'n_neighbors' was determined to be 61. The optimal value of 'weights' was determined to be 'uniform'.\n",
    "\n",
    "Using these parameters, the precision increased by 7% to 46%. This model is still not ideal, since the model fails to predict instances of diabetes 54% of the time."
   ]
  },
  {
   "cell_type": "markdown",
   "metadata": {},
   "source": [
    "## Question 7\n",
    "\n",
    "Analyze the evaluated models. For each algorithm, ensure that you:\n",
    "- Display: 1) the best model and 2) the best score that was obtained.\n",
    "- Evaluate the scores from GridSearchCV for the training set and the test set to diagnose any bias-variance problems. Comment on the quality of the model.\n",
    "\n",
    "NOTE: seeing that you are analyzing healthcare data, ensure that you discuss what is the desired metric to evaluate the results based on the machine learning task e.g. accuracy, precision, recall, f1-score, MSE, R2, etc."
   ]
  },
  {
   "cell_type": "markdown",
   "metadata": {},
   "source": [
    "## Question 8\n",
    "\n",
    "- Discuss the potential impacts of your solution. Who will benefit from (and/or who will be affected by) your solution and why.\n",
    "- Were there any concerns of bias in the ML modeling seeing that you were analyzing sensitive data? Create visualizations to share any analysis of bias in the training data and/or the predictions from the model. For example: you can compare and contrast the predictions for specific groups to demonstrate your findings. Provide recommendations on techniques to address any issues that were found.\n",
    "Note: you are welcome to use libraries to perform the analysis.\n"
   ]
  },
  {
   "cell_type": "markdown",
   "metadata": {},
   "source": [
    "## Helpful resources \n",
    "Don't forget to cite websites which helped you solve a problem in a unique way.  You can do this in markdown near the code or with a simple one-line comment inside the code cell, or you can list them below. \n",
    "\n",
    "You do not need to cite the official python documentation.\n"
   ]
  },
  {
   "cell_type": "markdown",
   "metadata": {},
   "source": []
  }
 ],
 "metadata": {
  "kernelspec": {
   "display_name": "Python 3 (ipykernel)",
   "language": "python",
   "name": "python3"
  },
  "language_info": {
   "codemirror_mode": {
    "name": "ipython",
    "version": 3
   },
   "file_extension": ".py",
   "mimetype": "text/x-python",
   "name": "python",
   "nbconvert_exporter": "python",
   "pygments_lexer": "ipython3",
   "version": "3.12.8"
  },
  "vscode": {
   "interpreter": {
    "hash": "aee8b7b246df8f9039afb4144a1f6fd8d2ca17a180786b69acc140d282b71a49"
   }
  }
 },
 "nbformat": 4,
 "nbformat_minor": 4
}
